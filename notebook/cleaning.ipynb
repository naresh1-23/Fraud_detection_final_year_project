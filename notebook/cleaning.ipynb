{
 "cells": [
  {
   "cell_type": "code",
   "execution_count": 1,
   "metadata": {},
   "outputs": [],
   "source": [
    "import pandas as pd"
   ]
  },
  {
   "cell_type": "code",
   "execution_count": 2,
   "metadata": {},
   "outputs": [
    {
     "data": {
      "text/html": [
       "<div>\n",
       "<style scoped>\n",
       "    .dataframe tbody tr th:only-of-type {\n",
       "        vertical-align: middle;\n",
       "    }\n",
       "\n",
       "    .dataframe tbody tr th {\n",
       "        vertical-align: top;\n",
       "    }\n",
       "\n",
       "    .dataframe thead th {\n",
       "        text-align: right;\n",
       "    }\n",
       "</style>\n",
       "<table border=\"1\" class=\"dataframe\">\n",
       "  <thead>\n",
       "    <tr style=\"text-align: right;\">\n",
       "      <th></th>\n",
       "      <th>EbayID</th>\n",
       "      <th>SellerName</th>\n",
       "      <th>SellerAuctionCount</th>\n",
       "      <th>SellerAuctionSaleCount</th>\n",
       "      <th>AuctionMedianPrice</th>\n",
       "      <th>ReturnsCount</th>\n",
       "      <th>is_fraud</th>\n",
       "    </tr>\n",
       "  </thead>\n",
       "  <tbody>\n",
       "    <tr>\n",
       "      <th>0</th>\n",
       "      <td>171004000000</td>\n",
       "      <td>itsmittytime</td>\n",
       "      <td>8</td>\n",
       "      <td>5</td>\n",
       "      <td>74.490</td>\n",
       "      <td>1</td>\n",
       "      <td>0</td>\n",
       "    </tr>\n",
       "    <tr>\n",
       "      <th>1</th>\n",
       "      <td>380618000000</td>\n",
       "      <td>my09131970</td>\n",
       "      <td>5028</td>\n",
       "      <td>459</td>\n",
       "      <td>0.990</td>\n",
       "      <td>485</td>\n",
       "      <td>0</td>\n",
       "    </tr>\n",
       "    <tr>\n",
       "      <th>2</th>\n",
       "      <td>321109000000</td>\n",
       "      <td>llbobo</td>\n",
       "      <td>44</td>\n",
       "      <td>16</td>\n",
       "      <td>29.885</td>\n",
       "      <td>27</td>\n",
       "      <td>1</td>\n",
       "    </tr>\n",
       "    <tr>\n",
       "      <th>3</th>\n",
       "      <td>380627000000</td>\n",
       "      <td>my09131970</td>\n",
       "      <td>5028</td>\n",
       "      <td>459</td>\n",
       "      <td>0.990</td>\n",
       "      <td>694</td>\n",
       "      <td>0</td>\n",
       "    </tr>\n",
       "    <tr>\n",
       "      <th>4</th>\n",
       "      <td>181127000000</td>\n",
       "      <td>hhsportz</td>\n",
       "      <td>87</td>\n",
       "      <td>19</td>\n",
       "      <td>36.000</td>\n",
       "      <td>2</td>\n",
       "      <td>0</td>\n",
       "    </tr>\n",
       "  </tbody>\n",
       "</table>\n",
       "</div>"
      ],
      "text/plain": [
       "         EbayID    SellerName  SellerAuctionCount  SellerAuctionSaleCount  \\\n",
       "0  171004000000  itsmittytime                   8                       5   \n",
       "1  380618000000    my09131970                5028                     459   \n",
       "2  321109000000        llbobo                  44                      16   \n",
       "3  380627000000    my09131970                5028                     459   \n",
       "4  181127000000      hhsportz                  87                      19   \n",
       "\n",
       "   AuctionMedianPrice  ReturnsCount  is_fraud  \n",
       "0              74.490             1         0  \n",
       "1               0.990           485         0  \n",
       "2              29.885            27         1  \n",
       "3               0.990           694         0  \n",
       "4              36.000             2         0  "
      ]
     },
     "execution_count": 2,
     "metadata": {},
     "output_type": "execute_result"
    }
   ],
   "source": [
    "df = pd.read_csv('../data/ebay_dataset.csv')\n",
    "df.head()\n"
   ]
  },
  {
   "cell_type": "code",
   "execution_count": 3,
   "metadata": {},
   "outputs": [
    {
     "data": {
      "text/plain": [
       "0          5\n",
       "1        459\n",
       "2         16\n",
       "3        459\n",
       "4         19\n",
       "        ... \n",
       "23990     74\n",
       "23991     74\n",
       "23992      1\n",
       "23993     56\n",
       "23994     66\n",
       "Name: SellerAuctionSaleCount, Length: 23995, dtype: int64"
      ]
     },
     "execution_count": 3,
     "metadata": {},
     "output_type": "execute_result"
    }
   ],
   "source": [
    "df[\"SellerAuctionCount\"].fillna(df[\"SellerAuctionCount\"].mean())\n",
    "df[\"SellerAuctionSaleCount\"].fillna(df[\"SellerAuctionSaleCount\"].mean())\n"
   ]
  },
  {
   "cell_type": "code",
   "execution_count": 5,
   "metadata": {},
   "outputs": [],
   "source": [
    "def change_bool_to_number(row):\n",
    "    if row[\"is_fraud\"]:\n",
    "        return 1\n",
    "    else:\n",
    "        return 0"
   ]
  },
  {
   "cell_type": "code",
   "execution_count": 6,
   "metadata": {},
   "outputs": [
    {
     "name": "stdout",
     "output_type": "stream",
     "text": [
      "23995\n",
      "9068\n",
      "14927\n",
      "Index(['EbayID', 'SellerName', 'SellerAuctionCount', 'SellerAuctionSaleCount',\n",
      "       'AuctionMedianPrice', 'ReturnsCount', 'is_fraud'],\n",
      "      dtype='object')\n",
      "EbayID                    23995\n",
      "SellerName                23995\n",
      "SellerAuctionCount        23995\n",
      "SellerAuctionSaleCount    23995\n",
      "AuctionMedianPrice        23995\n",
      "ReturnsCount              23995\n",
      "is_fraud                  23995\n",
      "dtype: int64\n"
     ]
    }
   ],
   "source": [
    "df[\"is_fraud\"] = df.apply(change_bool_to_number, axis = 1)\n",
    "print(df.shape[0])\n",
    "print(df[df[\"is_fraud\"]==1].shape[0])\n",
    "print(df[df[\"is_fraud\"]==0].shape[0])\n",
    "print(df.columns)\n",
    "print(df.isnull().count())"
   ]
  },
  {
   "cell_type": "code",
   "execution_count": null,
   "metadata": {},
   "outputs": [
    {
     "name": "stdout",
     "output_type": "stream",
     "text": [
      "['/usr/lib/python310.zip', '/usr/lib/python3.10', '/usr/lib/python3.10/lib-dynload', '', '/home/mango/college/7thsem/project/Fraud_detection_final_year_project/.venv/lib/python3.10/site-packages', '/home/mangoo/college/7thsem/project/Fraud_detection_final_year_project/', '/home/mangoo/college/7thsem/project/Fraud_detection_final_year_project/project/', '/home/mangoo/college/7thsem/project/Fraud_detection_final_year_project/project/']\n"
     ]
    }
   ],
   "source": []
  },
  {
   "cell_type": "code",
   "execution_count": 7,
   "metadata": {},
   "outputs": [
    {
     "name": "stdout",
     "output_type": "stream",
     "text": [
      "14397\n",
      "9598\n"
     ]
    }
   ],
   "source": [
    "# from model.LogisticRegression import LogisticRegression\n",
    "from sklearn.model_selection import train_test_split\n",
    "df = pd.read_csv(\"../data/ebay_dataset.csv\")\n",
    "\n",
    "# Split into features (X) and target (y)\n",
    "X = df.drop(columns=['is_fraud'])  # Replace 'is_fraud' with your actual target column name\n",
    "y = df['is_fraud']\n",
    "\n",
    "# Split data into training and testing sets\n",
    "X_train, X_test, y_train, y_test = train_test_split(X, y, test_size=0.4, random_state=0)\n",
    "\n",
    "print(X_train.shape[0])\n",
    "print(X_test.shape[0])"
   ]
  },
  {
   "cell_type": "code",
   "execution_count": null,
   "metadata": {},
   "outputs": [],
   "source": []
  }
 ],
 "metadata": {
  "kernelspec": {
   "display_name": ".venv",
   "language": "python",
   "name": "python3"
  },
  "language_info": {
   "codemirror_mode": {
    "name": "ipython",
    "version": 3
   },
   "file_extension": ".py",
   "mimetype": "text/x-python",
   "name": "python",
   "nbconvert_exporter": "python",
   "pygments_lexer": "ipython3",
   "version": "3.10.12"
  }
 },
 "nbformat": 4,
 "nbformat_minor": 2
}
